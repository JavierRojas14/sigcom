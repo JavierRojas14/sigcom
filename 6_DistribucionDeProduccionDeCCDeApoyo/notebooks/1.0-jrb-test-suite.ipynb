{
 "cells": [
  {
   "cell_type": "code",
   "execution_count": 2,
   "metadata": {},
   "outputs": [],
   "source": [
    "import pandas as pd\n",
    "from datetime import datetime, timedelta\n",
    "\n",
    "\n",
    "DICT_PRODUCCION = {\n",
    "    \"Medico Quirugico 3° Norte y Sur\": \"HOSPITALIZACIÓN MEDICINA INTERNA/HOSPITALIZACION QUIRUGICA (%)\",\n",
    "    \"Medico Quirugico 4° Norte\": \"HOSPITALIZACIÓN CARDIOVASCULAR\",\n",
    "    \"MQ 3° NORTE\": \"HOSPITALIZACIÓN MEDICINA INTERNA/HOSPITALIZACION QUIRUGICA (%)\",\n",
    "    \"MQ 3° SUR\": \"HOSPITALIZACIÓN MEDICINA INTERNA/HOSPITALIZACION QUIRUGICA (%)\",\n",
    "    \"MQ 3° Norte\": \"HOSPITALIZACIÓN MEDICINA INTERNA/HOSPITALIZACION QUIRUGICA (%)\",\n",
    "    \"MQ 3° Norte\\t\": \"HOSPITALIZACIÓN MEDICINA INTERNA/HOSPITALIZACION QUIRUGICA (%)\",\n",
    "    \"MQ 3° Sur\": \"HOSPITALIZACIÓN MEDICINA INTERNA/HOSPITALIZACION QUIRUGICA (%)\",\n",
    "    \"MQ 4° Norte\": \"HOSPITALIZACIÓN CARDIOVASCULAR\",\n",
    "    \"UCI 4° Sur\": \"UNIDAD DE CUIDADOS INTENSIVOS\",\n",
    "    \"UCI 5° Norte\": \"UNIDAD DE CUIDADOS INTENSIVOS\",\n",
    "    \"UCI 5° NORTE\": \"UNIDAD DE CUIDADOS INTENSIVOS\",\n",
    "    \"UCI 5° Sur\": \"UNIDAD DE CUIDADOS INTENSIVOS\",\n",
    "    \"UTI 3° Norte\": \"UNIDAD DE TRATAMIENTO INTENSIVO ADULTO\",\n",
    "    \"UTI 4° Norte\": \"UNIDAD DE TRATAMIENTO INTENSIVO ADULTO\",\n",
    "    \"UTI 5° Norte\": \"UNIDAD DE TRATAMIENTO INTENSIVO ADULTO\",\n",
    "    \"UTI 4° Sur\": \"UNIDAD DE TRATAMIENTO INTENSIVO ADULTO\",\n",
    "    \"Ambulatorio\": \"CONSULTA\",\n",
    "    \"AMBULATORIA\": \"CONSULTA\",\n",
    "    \"AMBULATORIO\": \"CONSULTA\",\n",
    "}\n",
    "\n",
    "HOJA_PRODUCCION_TIPO_PRODUCCION = {\n",
    "    \"QMT\": \"PROCEDIMIENTO ONCOLOGÍA\",\n",
    "    \"APNEA\": \"PROCEDIMIENTO DE NEUMOLOGÍA\",\n",
    "    \"EF\": \"PROCEDIMIENTOS DE CARDIOLOGÍA\",\n",
    "    \"EBUS\": \"PROCEDIMIENTOS EBUS\",\n",
    "    \"TAVI\": \"PROCEDIMIENTOS TAVI\",\n",
    "    \"ASIST VENTRICULAR\": \"PROCEDIMIENTOS ASISTENCIA VENTRICULAR\",\n",
    "    \"ECMO\": \"PROCEDIMIENTOS ECMO\",\n",
    "    \"HMD\": \"PROCEDIMIENTOS DE HEMODINAMIA\",\n",
    "    \"BRONCOSCOPIA\": \"PROCEDIMIENTOS ENDOSCÓPICOS\",\n",
    "    \"Anatomia Patologica\": \"ANATOMÍA PATOLÓGICA\",\n",
    "    \"Imagenologia\": \"IMAGENOLOGÍA\",\n",
    "    \"Tomografia\": \"TOMOGRAFÍA\",\n",
    "}\n",
    "\n",
    "HOMOLOGIA_CONSULTA = {\n",
    "    \"PROCEDIMIENTO ONCOLOGÍA\": \"CONSULTA ONCOLOGÍA\",\n",
    "    \"PROCEDIMIENTO DE NEUMOLOGÍA\": \"CONSULTA NEUMOLOGÍA\",\n",
    "    \"PROCEDIMIENTOS DE CARDIOLOGÍA\": \"CONSULTA CARDIOLOGÍA\",\n",
    "    \"PROCEDIMIENTOS EBUS\": \"CONSULTA CARDIOLOGÍA\",\n",
    "    \"PROCEDIMIENTOS TAVI\": \"\",\n",
    "    \"PROCEDIMIENTOS ASISTENCIA VENTRICULAR\": \"\",\n",
    "    \"PROCEDIMIENTOS ECMO\": \"\",\n",
    "    \"PROCEDIMIENTOS DE HEMODINAMIA\": \"CONSULTA CARDIOLOGÍA\",\n",
    "    \"PROCEDIMIENTOS ENDOSCÓPICOS\": \"CONSULTA NEUMOLOGÍA\",\n",
    "    \"ANATOMÍA PATOLÓGICA\": \"\",\n",
    "    \"IMAGENOLOGÍA\": \"\",\n",
    "    \"TOMOGRAFÍA\": \"\",\n",
    "}\n",
    "\n",
    "def get_first_and_last_day(year, month):\n",
    "    first_day = datetime(year, month, 1)\n",
    "    next_month = first_day.replace(month=first_day.month + 1, day=1)\n",
    "    last_day = next_month - timedelta(days=1)\n",
    "    last_day = last_day.replace(hour=23, minute=59, second=59)\n",
    "    return first_day, last_day"
   ]
  },
  {
   "cell_type": "code",
   "execution_count": 5,
   "metadata": {},
   "outputs": [],
   "source": [
    "archivo_produccion = pd.ExcelFile(\"../data/raw/produccion_julio_2023.xlsx\")"
   ]
  },
  {
   "cell_type": "code",
   "execution_count": 6,
   "metadata": {},
   "outputs": [],
   "source": [
    "INICIO_HOJA_PRODUCCIONES = 3\n",
    "COLUMNAS_LOCALIZACION_PROCEDIMIENTO = [\"Tipo de Atencíon\", \"Hoja1.Nombre nuevo HIS\"]\n",
    "\n",
    "\n",
    "\n",
    "anio_a_analizar = int(input(\"> Qué año quieres analizar? (Ingresa solamente el año en números): )\"))\n",
    "mes_a_analizar = int(input(\"> Qué mes quieres analizar? (Ingresa solamente el numero del mes):\"))\n",
    "\n",
    "ANIO_A_ANALIZAR = 2023\n",
    "MES_A_ANALIZAR = 7\n",
    "\n",
    "\n",
    "hojas_producciones = archivo_produccion.sheet_names[INICIO_HOJA_PRODUCCIONES:]\n",
    "primera_fecha, ultima_fecha = get_first_and_last_day(ANIO_A_ANALIZAR, MES_A_ANALIZAR)"
   ]
  },
  {
   "cell_type": "code",
   "execution_count": 7,
   "metadata": {},
   "outputs": [
    {
     "data": {
      "text/plain": [
       "datetime.datetime(2023, 7, 31, 23, 59, 59)"
      ]
     },
     "execution_count": 7,
     "metadata": {},
     "output_type": "execute_result"
    }
   ],
   "source": [
    "ultima_fecha"
   ]
  },
  {
   "cell_type": "code",
   "execution_count": 21,
   "metadata": {},
   "outputs": [
    {
     "name": "stdout",
     "output_type": "stream",
     "text": [
      "> QMT - PROCEDIMIENTO ONCOLOGÍA: 134\n",
      "CONSULTA    134\n",
      "Name: SIGCOM, dtype: int64 \n",
      "\n",
      "> APNEA - PROCEDIMIENTO DE NEUMOLOGÍA: 57\n",
      "CONSULTA                                                          55\n",
      "HOSPITALIZACIÓN MEDICINA INTERNA/HOSPITALIZACION QUIRUGICA (%)     2\n",
      "Name: SIGCOM, dtype: int64 \n",
      "\n",
      "> EF - PROCEDIMIENTOS DE CARDIOLOGÍA: 18\n",
      "HOSPITALIZACIÓN MEDICINA INTERNA/HOSPITALIZACION QUIRUGICA (%)    8\n",
      "CONSULTA                                                          6\n",
      "UNIDAD DE TRATAMIENTO INTENSIVO ADULTO                            3\n",
      "UNIDAD DE CUIDADOS INTENSIVOS                                     1\n",
      "Name: SIGCOM, dtype: int64 \n",
      "\n",
      "> EBUS - PROCEDIMIENTOS EBUS: 23\n",
      "CONSULTA                                                          20\n",
      "UNIDAD DE TRATAMIENTO INTENSIVO ADULTO                             2\n",
      "HOSPITALIZACIÓN MEDICINA INTERNA/HOSPITALIZACION QUIRUGICA (%)     1\n",
      "Name: SIGCOM, dtype: int64 \n",
      "\n",
      "> TAVI - PROCEDIMIENTOS TAVI: 7\n",
      "UNIDAD DE CUIDADOS INTENSIVOS    7\n",
      "Name: SIGCOM, dtype: int64 \n",
      "\n",
      "> ASIST VENTRICULAR - PROCEDIMIENTOS ASISTENCIA VENTRICULAR: 2\n",
      "UNIDAD DE CUIDADOS INTENSIVOS    2\n",
      "Name: SIGCOM, dtype: int64 \n",
      "\n",
      "> ECMO - PROCEDIMIENTOS ECMO: 8\n",
      "UNIDAD DE CUIDADOS INTENSIVOS             7\n",
      "UNIDAD DE TRATAMIENTO INTENSIVO ADULTO    1\n",
      "Name: SIGCOM, dtype: int64 \n",
      "\n",
      "> HMD - PROCEDIMIENTOS DE HEMODINAMIA: 197\n",
      "CONSULTA                                                          127\n",
      "UNIDAD DE TRATAMIENTO INTENSIVO ADULTO                             31\n",
      "UNIDAD DE CUIDADOS INTENSIVOS                                      19\n",
      "HOSPITALIZACIÓN MEDICINA INTERNA/HOSPITALIZACION QUIRUGICA (%)     14\n",
      "HOSPITALIZACIÓN CARDIOVASCULAR                                      6\n",
      "Name: SIGCOM, dtype: int64 \n",
      "\n",
      "> BRONCOSCOPIA - PROCEDIMIENTOS ENDOSCÓPICOS: 85\n",
      "CONSULTA                                                          32\n",
      "UNIDAD DE TRATAMIENTO INTENSIVO ADULTO                            22\n",
      "HOSPITALIZACIÓN MEDICINA INTERNA/HOSPITALIZACION QUIRUGICA (%)    22\n",
      "UNIDAD DE CUIDADOS INTENSIVOS                                      9\n",
      "Name: SIGCOM, dtype: int64 \n",
      "\n",
      "> Anatomia Patologica - ANATOMÍA PATOLÓGICA: 240\n",
      "CONSULTA                                                          189\n",
      "HOSPITALIZACIÓN MEDICINA INTERNA/HOSPITALIZACION QUIRUGICA (%)     33\n",
      "UNIDAD DE TRATAMIENTO INTENSIVO ADULTO                              9\n",
      "UNIDAD DE CUIDADOS INTENSIVOS                                       6\n",
      "HOSPITALIZACIÓN CARDIOVASCULAR                                      3\n",
      "Name: SIGCOM, dtype: int64 \n",
      "\n",
      "> Imagenologia - IMAGENOLOGÍA: 1425\n",
      "CONSULTA                                                          645\n",
      "UNIDAD DE TRATAMIENTO INTENSIVO ADULTO                            273\n",
      "HOSPITALIZACIÓN MEDICINA INTERNA/HOSPITALIZACION QUIRUGICA (%)    221\n",
      "UNIDAD DE CUIDADOS INTENSIVOS                                     144\n",
      "HOSPITALIZACIÓN CARDIOVASCULAR                                    142\n",
      "Name: SIGCOM, dtype: int64 \n",
      "\n",
      "> Tomografia - TOMOGRAFÍA: 818\n",
      "CONSULTA                                                          649\n",
      "HOSPITALIZACIÓN MEDICINA INTERNA/HOSPITALIZACION QUIRUGICA (%)     64\n",
      "UNIDAD DE CUIDADOS INTENSIVOS                                      40\n",
      "UNIDAD DE TRATAMIENTO INTENSIVO ADULTO                             39\n",
      "HOSPITALIZACIÓN CARDIOVASCULAR                                     26\n",
      "Name: SIGCOM, dtype: int64 \n",
      "\n"
     ]
    }
   ],
   "source": [
    "resultado = {}\n",
    "for hoja in hojas_producciones:\n",
    "    df = pd.read_excel(archivo_produccion, sheet_name=hoja)\n",
    "    df[\"Fecha Realización\"] = pd.to_datetime(df[\"Fecha Realización\"], dayfirst=True)\n",
    "    df_mes = df.query(\n",
    "        \"`Fecha Realización` >= @primera_fecha and `Fecha Realización` <= @ultima_fecha\"\n",
    "    ).copy()\n",
    "    if hoja == \"EF\":\n",
    "        electrofis = df.copy()\n",
    "    tipo_produccion_sigcom = HOJA_PRODUCCION_TIPO_PRODUCCION[hoja]\n",
    "\n",
    "    print(f\"> {hoja} - {tipo_produccion_sigcom}: {df_mes.shape[0]}\")\n",
    "\n",
    "    try:\n",
    "        df_mes[\"SIGCOM\"] = df_mes[\"Tipo de Atencíon\"].replace(DICT_PRODUCCION)\n",
    "\n",
    "    except KeyError:\n",
    "        df_mes[\"SIGCOM\"] = df_mes[\"Hoja1.Nombre nuevo HIS\"].replace(DICT_PRODUCCION)\n",
    "\n",
    "    conteo_sigcom = df_mes[\"SIGCOM\"].value_counts()\n",
    "\n",
    "    print(conteo_sigcom, \"\\n\")\n",
    "\n",
    "    resultado[tipo_produccion_sigcom] = conteo_sigcom"
   ]
  },
  {
   "cell_type": "code",
   "execution_count": 22,
   "metadata": {},
   "outputs": [],
   "source": [
    "formato_produccion = pd.read_excel(\n",
    "    \"input/Formato_5_Distribución_Producción_CC_Apoyo.xlsx\", header=2\n",
    ").set_index(\"Centro de Costo\")\n",
    "\n",
    "formato_a_rellenar = formato_produccion.copy()"
   ]
  },
  {
   "cell_type": "code",
   "execution_count": 23,
   "metadata": {},
   "outputs": [],
   "source": [
    "for tipo_produccion, df_resultado in resultado.items():\n",
    "    for cc_sigcom, cantidad_procedimientos in df_resultado.items():\n",
    "        if cc_sigcom == \"CONSULTA\":\n",
    "            cc_sigcom = HOMOLOGIA_CONSULTA[tipo_produccion]\n",
    "\n",
    "        formato_a_rellenar.loc[tipo_produccion, cc_sigcom] = cantidad_procedimientos"
   ]
  },
  {
   "cell_type": "code",
   "execution_count": 24,
   "metadata": {},
   "outputs": [],
   "source": [
    "formato_a_rellenar.to_excel(\"prueba.xlsx\")"
   ]
  }
 ],
 "metadata": {
  "kernelspec": {
   "display_name": "base",
   "language": "python",
   "name": "python3"
  },
  "language_info": {
   "codemirror_mode": {
    "name": "ipython",
    "version": 3
   },
   "file_extension": ".py",
   "mimetype": "text/x-python",
   "name": "python",
   "nbconvert_exporter": "python",
   "pygments_lexer": "ipython3",
   "version": "3.11.5"
  },
  "orig_nbformat": 4
 },
 "nbformat": 4,
 "nbformat_minor": 2
}
