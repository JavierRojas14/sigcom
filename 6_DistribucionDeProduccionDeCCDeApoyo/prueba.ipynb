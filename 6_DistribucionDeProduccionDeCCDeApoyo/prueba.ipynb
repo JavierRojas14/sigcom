{
 "cells": [
  {
   "cell_type": "code",
   "execution_count": 3,
   "metadata": {},
   "outputs": [],
   "source": [
    "import pandas as pd\n",
    "\n",
    "import modulo_producciones as prod"
   ]
  },
  {
   "cell_type": "code",
   "execution_count": 4,
   "metadata": {},
   "outputs": [
    {
     "data": {
      "text/plain": [
       "<modulo_producciones.ModuloProducciones at 0x246a0e15570>"
      ]
     },
     "execution_count": 4,
     "metadata": {},
     "output_type": "execute_result"
    }
   ],
   "source": [
    "prod.ModuloProducciones()"
   ]
  },
  {
   "cell_type": "code",
   "execution_count": 26,
   "metadata": {},
   "outputs": [],
   "source": [
    "INPUT_FILEPATH = \"input/produccion_junio_2023.xlsx\"\n",
    "MES_A_ANALIZAR = \"June\""
   ]
  },
  {
   "cell_type": "code",
   "execution_count": 45,
   "metadata": {},
   "outputs": [],
   "source": [
    "CORRELACION_PROCEDIMIENTOS_SIGCOM = {\n",
    "    \"QMT\": \"PROCEDIMIENTO ONCOLOGÍA\",\n",
    "    \"APNEA\": \"PROCEDIMIENTO DE NEUMOLOGÍA\",\n",
    "    \"EF\": \"PROCEDIMIENTOS DE CARDIOLOGÍA\",\n",
    "    \"EBUS\": \"PROCEDIMIENTOS EBUS\",\n",
    "    \"TAVI\": \"PROCEDIMIENTOS TAVI\",\n",
    "    \"ASIST VENTRICULAR\": \"PROCEDIMIENTOS ASISTENCIA VENTRICULAR\",\n",
    "    \"ECMO\": \"PROCEDIMIENTOS ECMO\",\n",
    "    \"HMD\": \"PROCEDIMIENTOS DE HEMODINAMIA\",\n",
    "    \"BRONCOSCOPIA\": \"PROCEDIMIENTOS ENDOSCÓPICOS\",\n",
    "}\n",
    "\n",
    "SERVICIO_INTERNO_SIGCOM = {\n",
    "    \"ambulatorio\": \"CONSULTAS\",\n",
    "    \"medico quirugico 3° norte y sur\": \"HOSPITALIZACIÓN MEDICINA INTERNA/HOSPITALIZACIÓN QUIRÚRGICA\",\n",
    "    \"medico quirugico 4° norte\": \"HOSPITALIZACIÓN CARDIOVASCULAR\",\n",
    "    \"uci 4° sur\": \"UNIDAD DE CUIDADOS INTENSIVOS\",\n",
    "    \"uci 5° norte\": \"UNIDAD DE CUIDADOS INTENSIVOS\",\n",
    "    \"uci 5° sur\": \"UNIDAD DE CUIDADOS INTENSIVOS\",\n",
    "    \"uti 3° norte\": \"UNIDAD DE TRATAMIENTO INTENSIVO ADULTO\",\n",
    "    \"uti 4° norte\": \"UNIDAD DE TRATAMIENTO INTENSIVO ADULTO\",\n",
    "    \"uti 4° sur\": \"UNIDAD DE TRATAMIENTO INTENSIVO ADULTO\",\n",
    "    \"uti 5° norte\": \"UNIDAD DE TRATAMIENTO INTENSIVO ADULTO\",\n",
    "}"
   ]
  },
  {
   "cell_type": "code",
   "execution_count": 53,
   "metadata": {},
   "outputs": [],
   "source": [
    "def obtener_localizacion_de_procedimientos(ruta_produccion):\n",
    "    resultados = {}\n",
    "    archivo = pd.ExcelFile(ruta_produccion)\n",
    "    for hoja in archivo.sheet_names[3:]:\n",
    "        df = pd.read_excel(archivo, sheet_name=hoja)\n",
    "        df = df.loc[:, \"Rut\":\"Hoja1.Nombre nuevo HIS\"]\n",
    "        df[\"Hoja1.Nombre nuevo HIS\"] = df[\"Hoja1.Nombre nuevo HIS\"].str.strip().str.lower()\n",
    "        df[\"SIGCOM\"] = df[\"Hoja1.Nombre nuevo HIS\"].replace(SERVICIO_INTERNO_SIGCOM)\n",
    "\n",
    "        procedimientos_mes = df[df[\"Fecha Realización\"].dt.month_name() == MES_A_ANALIZAR]\n",
    "        procedimientos_por_servicio = (\n",
    "            procedimientos_mes.groupby(\"SIGCOM\")[\"Rut\"]\n",
    "            .count()\n",
    "            .reset_index(name=\"cantidad_procedimientos\")\n",
    "        )\n",
    "\n",
    "        resultados[hoja] = procedimientos_por_servicio\n",
    "\n",
    "    return resultados\n",
    "    "
   ]
  },
  {
   "cell_type": "code",
   "execution_count": 54,
   "metadata": {},
   "outputs": [],
   "source": [
    "resultados_procedimientos = obtener_localizacion_de_procedimientos(INPUT_FILEPATH)"
   ]
  },
  {
   "cell_type": "code",
   "execution_count": null,
   "metadata": {},
   "outputs": [],
   "source": []
  }
 ],
 "metadata": {
  "kernelspec": {
   "display_name": "base",
   "language": "python",
   "name": "python3"
  },
  "language_info": {
   "codemirror_mode": {
    "name": "ipython",
    "version": 3
   },
   "file_extension": ".py",
   "mimetype": "text/x-python",
   "name": "python",
   "nbconvert_exporter": "python",
   "pygments_lexer": "ipython3",
   "version": "3.10.9"
  },
  "orig_nbformat": 4
 },
 "nbformat": 4,
 "nbformat_minor": 2
}
